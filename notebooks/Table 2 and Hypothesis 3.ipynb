{
 "cells": [
  {
   "cell_type": "code",
   "execution_count": 10,
   "metadata": {
    "collapsed": false
   },
   "outputs": [],
   "source": [
    "import scipy as sp\n",
    "import pandas as pd\n",
    "import numpy as np\n",
    "import os\n",
    "import sys\n",
    "from scipy.stats import poisson\n"
   ]
  },
  {
   "cell_type": "code",
   "execution_count": 2,
   "metadata": {
    "collapsed": true
   },
   "outputs": [],
   "source": [
    "rts_colony = pd.read_csv('C:/Users/courtney/Documents/Schoolwork/Stat_215a/Bishayee Colony Counts 10.27.97-3.8.01.csv',\n",
    "                         skiprows=2,usecols=range(3,7),na_values=' ')\n",
    "rts_colony['col_min'] = rts_colony.apply(lambda row: min(row['col1'],row['col2'],row['col3']) ,axis=1)\n",
    "rts_colony['col_max'] = rts_colony.apply(lambda row: max(row['col1'],row['col2'],row['col3']) ,axis=1)\n",
    "rts_colony['col_gap'] = rts_colony['col_max']-rts_colony['col_min']\n",
    "rts_colony['has_na'] = ((pd.isnull(rts_colony['col1'])) | (pd.isnull(rts_colony['col2'])) | (pd.isnull(rts_colony['col3'])))\n",
    "\n",
    "rts_coulter = pd.read_csv('C:/Users/courtney/Documents/Schoolwork/Stat_215a/Bishayee Coulter Counts.10.20.97-7.16.01.csv', \n",
    "                          skiprows=1,usecols=range(2,6),na_values=' ')\n",
    "rts_coulter['col_min'] = rts_coulter.apply(lambda row: min(row['Count 1'],row['Count 2'],row['Count 3']) ,axis=1)\n",
    "rts_coulter['col_max'] = rts_coulter.apply(lambda row: max(row['Count 1'],row['Count 2'],row['Count 3']) ,axis=1)\n",
    "rts_coulter['col_gap'] = rts_coulter['col_max']-rts_coulter['col_min']\n",
    "rts_coulter['has_na'] = ((pd.isnull(rts_coulter['Count 1'])) | (pd.isnull(rts_coulter['Count 2'])) | (pd.isnull(rts_coulter['Count 3'])))\n",
    "\n",
    "others_colony = pd.read_csv('C:/Users/courtney/Documents/Schoolwork/Stat_215a/Other Investigators in Lab.Colony Counts.4.23.92-11.27.02.csv', \n",
    "                          skiprows=1,usecols=range(3,7),na_values=' ')\n",
    "others_colony['col_min'] = others_colony.apply(lambda row: min(row['col1'],row['col2'],row['col3']) ,axis=1)\n",
    "others_colony['col_max'] = others_colony.apply(lambda row: max(row['col1'],row['col2'],row['col3']) ,axis=1)\n",
    "others_colony['col_gap'] = others_colony['col_max'] - others_colony['col_min']\n",
    "others_colony['has_na'] = ((pd.isnull(others_colony['col1'])) | (pd.isnull(others_colony['col2'])) | (pd.isnull(others_colony['col3'])))\n",
    "\n",
    "others_coulter = pd.read_csv('C:/Users/courtney/Documents/Schoolwork/Stat_215a/Other Investigators in Lab.Coulter Counts.4.15.92-5.21.05.csv', \n",
    "                          skiprows=1,na_values=' ')\n",
    "others_coulter['col_min'] = others_coulter.apply(lambda row: min(row['Coul 1'],row['Coul 2'],row['Coul 3']) ,axis=1)\n",
    "others_coulter['col_max'] = others_coulter.apply(lambda row: max(row['Coul 1'],row['Coul 2'],row['Coul 3']) ,axis=1)\n",
    "others_coulter['col_gap'] = others_coulter['col_max'] - others_coulter['col_min']\n",
    "others_coulter['has_na'] = ((pd.isnull(others_coulter['Coul 1'])) | (pd.isnull(others_coulter['Coul 2'])) | (pd.isnull(others_coulter['Coul 3'])))\n",
    "\n",
    "Lab1_colony = pd.read_csv('C:/Users/courtney/Documents/Schoolwork/Stat_215a/Outside Lab 1.Coulter Counts.6.7.91-4.9.99.csv', \n",
    "                          na_values=' ')\n",
    "Lab1_colony['col_min'] = Lab1_colony.apply(lambda row: min(row['Unnamed: 1'],row['Unnamed: 2'],row['Unnamed: 3']) ,axis=1)\n",
    "Lab1_colony['col_max'] = Lab1_colony.apply(lambda row: max(row['Unnamed: 1'],row['Unnamed: 2'],row['Unnamed: 3']) ,axis=1)\n",
    "Lab1_colony['col_gap'] = Lab1_colony['col_max'] - Lab1_colony['col_min']\n",
    "Lab1_colony['has_na'] = ((pd.isnull(Lab1_colony['Unnamed: 1'])) | (pd.isnull(Lab1_colony['Unnamed: 2'])) | (pd.isnull(Lab1_colony['Unnamed: 3'])))\n",
    "\n",
    "Lab2_colony = pd.read_csv('C:/Users/courtney/Documents/Schoolwork/Stat_215a/Outside Lab 2.Coulter Counts.6.6.08-7.7.08.csv', \n",
    "                          na_values=' ',skiprows=1)\n",
    "Lab2_colony['col_min'] = Lab2_colony.apply(lambda row: min(row['Count 1'],row['Count 2'],row['Count 3']) ,axis=1)\n",
    "Lab2_colony['col_max'] = Lab2_colony.apply(lambda row: max(row['Count 1'],row['Count 2'],row['Count 3']) ,axis=1)\n",
    "Lab2_colony['col_gap'] = Lab2_colony['col_max'] - Lab2_colony['col_min']\n",
    "Lab2_colony['has_na'] = ((pd.isnull(Lab2_colony['Count 1'])) | (pd.isnull(Lab2_colony['Count 2'])) | (pd.isnull(Lab2_colony['Count 3'])))\n",
    "\n",
    "Lab3_colony = pd.read_csv('C:/Users/courtney/Documents/Schoolwork/Stat_215a/Outside Lab 3.Colony Counts.2.4.10-5.21.12.csv', \n",
    "                          na_values=' ',skiprows=1)\n",
    "\n",
    "Lab3_colony['col_min'] = Lab3_colony.apply(lambda row: min(row['c1'],row['c2'],row['c3']) ,axis=1)\n",
    "Lab3_colony['col_max'] = Lab3_colony.apply(lambda row: max(row['c1'],row['c2'],row['c3']) ,axis=1)\n",
    "Lab3_colony['col_gap'] = Lab3_colony['col_max'] - Lab3_colony['col_min']\n",
    "Lab3_colony['has_na'] = ((pd.isnull(Lab3_colony['c1'])) | (pd.isnull(Lab3_colony['c2'])) | (pd.isnull(Lab3_colony['c3'])))\n"
   ]
  },
  {
   "cell_type": "code",
   "execution_count": null,
   "metadata": {
    "collapsed": true
   },
   "outputs": [],
   "source": [
    "def ChooseN(moment):\n",
    "    MAX_N = 1000000\n",
    "    EPSILON = 1e-9\n",
    "    prob_sum = 0\n",
    "    for j in range(0, MAX_N):\n",
    "        prob_sum = prob_sum + poisson.pmf(j, moment)\n",
    "        if prob_sum >= 1-EPSILON:\n",
    "            return j"
   ]
  },
  {
   "cell_type": "code",
   "execution_count": 59,
   "metadata": {
    "collapsed": true
   },
   "outputs": [],
   "source": [
    "def PoissonTriples_exact(moment):\n",
    "    \"\"\"\n",
    "    This function computes the probability that triples of Poisson random variables\n",
    "    contain their own rounded mean based on the formula given in Pitt & Hill, 2016.\n",
    "    \n",
    "    Parameters\n",
    "    ----------\n",
    "    moment : integer\n",
    "              The mean-variance parameter of the Poisson distribution from which\n",
    "              triples of Poisson random variables are to be generated.\n",
    "    \n",
    "    Returns\n",
    "    -------\n",
    "    prob : numeric\n",
    "            The exact probability that triples of Poisson random variables contain\n",
    "            their own rounded means.\n",
    "    \"\"\"\n",
    "    N = ChooseN(moment)\n",
    "    total = 0\n",
    "    for j in list(range(2, N + 1)):\n",
    "        for k in list(range(j, N + 1)):\n",
    "            inner = poisson.pmf(k - (j / 2), moment) + ((j % 2) * poisson.pmf(k - (j / 2) - 1, moment))\n",
    "            outer = poisson.pmf(k, moment) * poisson.pmf(k - j, moment)\n",
    "            prob = outer * inner\n",
    "            total = total + prob\n",
    "    \n",
    "    prob = 6 * total\n",
    "    return(prob)"
   ]
  },
  {
   "cell_type": "code",
   "execution_count": 61,
   "metadata": {
    "collapsed": false
   },
   "outputs": [],
   "source": [
    "momentMeans = np.array(np.round(rts_colony['average'])) # means of each triple from the data\n",
    "probs = np.zeros(len(momentMeans))\n",
    "\n",
    "for i in range(len(momentMeans)):\n",
    "    probs[i] = PoissonTriples_exact(momentMeans[i])\n",
    "    \n",
    "probs1 = probs[np.all([rts_colony['has_na'] == False , rts_colony['col_gap'] >= 2],axis=0)]\n",
    "\n",
    "## NORMAL APPROXIMATION\n",
    "mu = np.sum(probs1)\n",
    "sd = np.sum(np.multiply(probs1,(1-probs1)))\n",
    "z= (690-mu)/sd\n",
    "print(mu,sd,z)"
   ]
  },
  {
   "cell_type": "code",
   "execution_count": 63,
   "metadata": {
    "collapsed": false
   },
   "outputs": [],
   "source": [
    "probs1 = probs[np.all([rts_colony['has_na'] == False , rts_colony['col_gap'] >= 2],axis=0)]"
   ]
  },
  {
   "cell_type": "code",
   "execution_count": 64,
   "metadata": {
    "collapsed": false
   },
   "outputs": [
    {
     "data": {
      "text/plain": [
       "1343"
      ]
     },
     "execution_count": 64,
     "metadata": {},
     "output_type": "execute_result"
    }
   ],
   "source": [
    "len(probs1)"
   ]
  },
  {
   "cell_type": "code",
   "execution_count": 65,
   "metadata": {
    "collapsed": false
   },
   "outputs": [
    {
     "name": "stdout",
     "output_type": "stream",
     "text": [
      "76.8302317611 71.6830023684 8.55390745337\n"
     ]
    }
   ],
   "source": [
    "## NORMAL APPROXIMATION\n",
    "mu = np.sum(probs1)\n",
    "sd = np.sum(np.multiply(probs1,(1-probs1)))\n",
    "z= (690-mu)/sd\n",
    "print(mu,sd,z)"
   ]
  },
  {
   "cell_type": "code",
   "execution_count": null,
   "metadata": {
    "collapsed": true
   },
   "outputs": [],
   "source": [
    "momentMeans = np.array(np.round(rts_coulter['Average'])) # means of each triple from the data\n",
    "probs = np.zeros(len(momentMeans))\n",
    "\n",
    "for i in range(len(momentMeans)):\n",
    "    probs[i] = PoissonTriples_exact(momentMeans[i])\n",
    "    \n",
    "probs2 = probs[np.all([rts_coulter['has_na'] == False , rts_coulter['col_gap'] >= 2],axis=0)]\n",
    "\n",
    "## NORMAL APPROXIMATION\n",
    "mu = np.sum(probs2)\n",
    "sd = np.sum(np.multiply(probs2,(1-probs2)))\n",
    "z= (690-mu)/sd\n",
    "print(mu,sd,z)"
   ]
  },
  {
   "cell_type": "code",
   "execution_count": null,
   "metadata": {
    "collapsed": true
   },
   "outputs": [],
   "source": [
    "momentMeans = np.array(np.round(others_colony['average'])) # means of each triple from the data\n",
    "probs = np.zeros(len(momentMeans))\n",
    "\n",
    "for i in range(len(momentMeans)):\n",
    "    probs[i] = PoissonTriples_exact(momentMeans[i])\n",
    "    \n",
    "probs3 = probs[np.all([others_colony['has_na'] == False , others_colony['col_gap'] >= 2],axis=0)]\n",
    "\n",
    "## NORMAL APPROXIMATION\n",
    "mu = np.sum(probs3)\n",
    "sd = np.sum(np.multiply(probs3,(1-probs3)))\n",
    "z= (690-mu)/sd\n",
    "print(mu,sd,z)"
   ]
  },
  {
   "cell_type": "code",
   "execution_count": null,
   "metadata": {
    "collapsed": true
   },
   "outputs": [],
   "source": [
    "momentMeans = np.array(np.round(others_coulter['Average'])) # means of each triple from the data\n",
    "probs = np.zeros(len(momentMeans))\n",
    "\n",
    "for i in range(len(momentMeans)):\n",
    "    probs[i] = PoissonTriples_exact(momentMeans[i])\n",
    "    \n",
    "probs4 = probs[np.all([others_coulter['has_na'] == False , others_coulter['col_gap'] >= 2],axis=0)]\n",
    "\n",
    "## NORMAL APPROXIMATION\n",
    "mu = np.sum(probs4)\n",
    "sd = np.sum(np.multiply(probs4,(1-probs4)))\n",
    "z= (690-mu)/sd\n",
    "print(mu,sd,z)"
   ]
  },
  {
   "cell_type": "code",
   "execution_count": null,
   "metadata": {
    "collapsed": true
   },
   "outputs": [],
   "source": [
    "momentMeans = np.array(np.round(Lab1_colony['Unnamed: 4'])) # means of each triple from the data\n",
    "probs = np.zeros(len(momentMeans))\n",
    "\n",
    "for i in range(len(momentMeans)):\n",
    "    probs[i] = PoissonTriples_exact(momentMeans[i])\n",
    "    \n",
    "probs5 = probs[np.all([Lab1_colony['has_na'] == False , Lab1_colony['col_gap'] >= 2],axis=0)]\n",
    "\n",
    "## NORMAL APPROXIMATION\n",
    "mu = np.sum(probs5)\n",
    "sd = np.sum(np.multiply(probs5,(1-probs5)))\n",
    "z= (690-mu)/sd\n",
    "print(mu,sd,z)"
   ]
  },
  {
   "cell_type": "code",
   "execution_count": null,
   "metadata": {
    "collapsed": true
   },
   "outputs": [],
   "source": [
    "momentMeans = np.array(np.round(Lab2_colony['Average'])) # means of each triple from the data\n",
    "probs = np.zeros(len(momentMeans))\n",
    "\n",
    "for i in range(len(momentMeans)):\n",
    "    probs[i] = PoissonTriples_exact(momentMeans[i])\n",
    "    \n",
    "probs6 = probs[np.all([Lab2_colony['has_na'] == False , Lab2_colony['col_gap'] >= 2],axis=0)]\n",
    "\n",
    "## NORMAL APPROXIMATION\n",
    "mu = np.sum(probs6)\n",
    "sd = np.sum(np.multiply(probs6,(1-probs6)))\n",
    "z= (690-mu)/sd\n",
    "print(mu,sd,z)"
   ]
  },
  {
   "cell_type": "code",
   "execution_count": null,
   "metadata": {
    "collapsed": true
   },
   "outputs": [],
   "source": [
    "momentMeans = np.array(np.round(Lab3_colony['average'])) # means of each triple from the data\n",
    "probs = np.zeros(len(momentMeans))\n",
    "\n",
    "for i in range(len(momentMeans)):\n",
    "    probs[i] = PoissonTriples_exact(momentMeans[i])\n",
    "    \n",
    "probs7 = probs[np.all([Lab3_colony['has_na'] == False , Lab3_colony['col_gap'] >= 2],axis=0)]\n",
    "\n",
    "## NORMAL APPROXIMATION\n",
    "mu = np.sum(probs7)\n",
    "sd = np.sum(np.multiply(probs7,(1-probs7)))\n",
    "z= (690-mu)/sd\n",
    "print(mu,sd,z)"
   ]
  }
 ],
 "metadata": {
  "anaconda-cloud": {},
  "kernelspec": {
   "display_name": "Python [Root]",
   "language": "python",
   "name": "Python [Root]"
  },
  "language_info": {
   "codemirror_mode": {
    "name": "ipython",
    "version": 3
   },
   "file_extension": ".py",
   "mimetype": "text/x-python",
   "name": "python",
   "nbconvert_exporter": "python",
   "pygments_lexer": "ipython3",
   "version": "3.5.2"
  }
 },
 "nbformat": 4,
 "nbformat_minor": 0
}
