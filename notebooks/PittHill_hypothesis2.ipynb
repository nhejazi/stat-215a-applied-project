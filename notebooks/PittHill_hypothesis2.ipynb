{
 "cells": [
  {
   "cell_type": "code",
   "execution_count": 1,
   "metadata": {
    "collapsed": false
   },
   "outputs": [],
   "source": [
    "# some programmatic housekeeping\n",
    "import os\n",
    "import sys\n",
    "import numpy as np\n",
    "import pandas as pd\n",
    "from scipy.stats import poisson\n",
    "import matplotlib.pyplot as plt\n",
    "import seaborn as sns\n",
    "\n",
    "sns.set()\n",
    "np.random.seed(215)\n",
    "%matplotlib inline"
   ]
  },
  {
   "cell_type": "code",
   "execution_count": 2,
   "metadata": {
    "collapsed": false
   },
   "outputs": [],
   "source": [
    "def ChooseN(moment):\n",
    "    MAX_N = 1000000\n",
    "    EPSILON = 1e-9\n",
    "    prob_sum = 0\n",
    "    for j in range(0, MAX_N):\n",
    "        prob_sum = prob_sum + poisson.pmf(j, moment)\n",
    "        if prob_sum >= 1-EPSILON:\n",
    "            return j"
   ]
  },
  {
   "cell_type": "code",
   "execution_count": 3,
   "metadata": {
    "collapsed": true
   },
   "outputs": [],
   "source": [
    "def PoissonTriples_exact(moment):\n",
    "    \"\"\"\n",
    "    This function computes the probability that triples of Poisson random variables\n",
    "    contain their own rounded mean based on the formula given in Pitt & Hill, 2016.\n",
    "    \n",
    "    Parameters\n",
    "    ----------\n",
    "    moment : integer\n",
    "              The mean-variance parameter of the Poisson distribution from which\n",
    "              triples of Poisson random variables are to be generated.\n",
    "    \n",
    "    Returns\n",
    "    -------\n",
    "    prob : numeric\n",
    "            The exact probability that triples of Poisson random variables contain\n",
    "            their own rounded means.\n",
    "    \"\"\"\n",
    "    N = ChooseN(moment)\n",
    "    total = 0\n",
    "    \n",
    "    for j in list(range(2, N + 1)):\n",
    "        for k in list(range(j, N + 1)):\n",
    "            inner = poisson.pmf(k - np.floor(j / 2), moment) + ((j % 2) * poisson.pmf(k - np.floor(j / 2) - 1, moment))\n",
    "            outer = poisson.pmf(k, moment) * poisson.pmf(k - j, moment)\n",
    "            prob = outer * inner\n",
    "            total = total + (6 * prob)\n",
    "    return(total)"
   ]
  },
  {
   "cell_type": "code",
   "execution_count": 4,
   "metadata": {
    "collapsed": false
   },
   "outputs": [
    {
     "name": "stdout",
     "output_type": "stream",
     "text": [
      "Reading Data from \"Bishayee Colony Counts 10.27.97-3.8.01.csv\"\n"
     ]
    }
   ],
   "source": [
    "def ColumnNames():\n",
    "    return ['col1', 'col2', 'col3', 'average']\n",
    "\n",
    "def PreProcess(filepath, skiprows, usecols): \n",
    "    \"\"\"\n",
    "    This function reads data and add min, max, include_mean values.\n",
    "    \n",
    "    Parameters\n",
    "    ----------\n",
    "    filepath : filepath of the data\n",
    "    skiprows: number of rows to skip from the csv file\n",
    "    usecols: range of columns of data to read in.\n",
    "               \n",
    "    Returns\n",
    "    -------\n",
    "    data : The original count data and some added columns of new stats data.\n",
    "    \"\"\"\n",
    "    print('Reading Data from \\\"{0}\\\"'.format(os.path.basename(filepath)))\n",
    "    data = pd.read_csv(filepath, skiprows=skiprows,usecols=usecols,na_values=' ', header = None, names = ColumnNames() ).dropna(axis=0)\n",
    "    data['col_min'] = data.apply(lambda row: min(row['col1'],row['col2'],row['col3']), axis=1)\n",
    "    data['col_max'] = data.apply(lambda row: max(row['col1'],row['col2'],row['col3']), axis=1)\n",
    "    data['col_median'] = data.apply(lambda row: np.median([row['col1'],row['col2'],row['col3']]), axis=1)\n",
    "    data['col_gap'] = data['col_max']-data['col_min']\n",
    "    data['complete'] = data['col_gap']>=2\n",
    "    data['include_mean'] = data.apply(lambda row: ((row['col1'] == round(row['average']) or row['col2'] == round(row['average']) or \n",
    "                                                               row['col3'] == round(row['average'])) and row['complete']),axis=1)\n",
    "    return(data)\n",
    "\n",
    "data_dir = '../data/PittHill_OSFdata_2016/csv/'\n",
    "rts_colony = PreProcess(os.path.join(data_dir,'Bishayee Colony Counts 10.27.97-3.8.01.csv'),3,range(3,7))"
   ]
  },
  {
   "cell_type": "code",
   "execution_count": 5,
   "metadata": {
    "collapsed": false
   },
   "outputs": [],
   "source": [
    "momentMeans = np.array(np.round(rts_colony['average'])) # means of each triple from the data\n",
    "probs = np.zeros(len(momentMeans))\n",
    "\n",
    "for i in range(len(momentMeans)):\n",
    "    probs[i] = PoissonTriples_exact(momentMeans[i])"
   ]
  },
  {
   "cell_type": "code",
   "execution_count": 10,
   "metadata": {
    "collapsed": false
   },
   "outputs": [],
   "source": [
    "np.savetxt(\"../data/ppoibin_probs.txt\", probs)"
   ]
  },
  {
   "cell_type": "markdown",
   "metadata": {},
   "source": [
    "__n.b.__, the code below avoids calling `R` via the usual `IPython` \"magic\" since the `R` kernel on the machine on which this notebook was drafted appears unstable (that is, it seems to work briefly following re-installataion and then fails at some point following each re-installation). To avoid this issue, `R` is called via using the `subprocess` module to directly run (via a call to `rscript`) the `ppois.R` script in the `src` subdirectory of this project."
   ]
  },
  {
   "cell_type": "code",
   "execution_count": 2,
   "metadata": {
    "collapsed": false
   },
   "outputs": [
    {
     "data": {
      "text/plain": [
       "0"
      ]
     },
     "execution_count": 2,
     "metadata": {},
     "output_type": "execute_result"
    }
   ],
   "source": [
    "import subprocess\n",
    "callr = ('rscript' + ' ' + '../src/02_PH_hypothesis2_ppoibin.R')\n",
    "subprocess.call(callr, shell = True)"
   ]
  }
 ],
 "metadata": {
  "kernelspec": {
   "display_name": "Python 3",
   "language": "python",
   "name": "python3"
  },
  "language_info": {
   "codemirror_mode": {
    "name": "ipython",
    "version": 3
   },
   "file_extension": ".py",
   "mimetype": "text/x-python",
   "name": "python",
   "nbconvert_exporter": "python",
   "pygments_lexer": "ipython3",
   "version": "3.5.2"
  }
 },
 "nbformat": 4,
 "nbformat_minor": 0
}
