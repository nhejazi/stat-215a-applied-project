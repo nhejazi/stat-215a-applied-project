{
 "cells": [
  {
   "cell_type": "code",
   "execution_count": 1,
   "metadata": {
    "collapsed": false
   },
   "outputs": [],
   "source": [
    "import scipy as sp\n",
    "from scipy.stats import chisquare\n",
    "from scipy.stats import binom_test"
   ]
  },
  {
   "cell_type": "code",
   "execution_count": 2,
   "metadata": {
    "collapsed": true
   },
   "outputs": [],
   "source": [
    "import pandas as pd\n",
    "import numpy as np\n",
    "import math"
   ]
  },
  {
   "cell_type": "code",
   "execution_count": 42,
   "metadata": {
    "collapsed": false
   },
   "outputs": [
    {
     "name": "stdout",
     "output_type": "stream",
     "text": [
      "1343 1361 690\n"
     ]
    },
    {
     "data": {
      "text/plain": [
       "0     False\n",
       "1     False\n",
       "2     False\n",
       "3     False\n",
       "4     False\n",
       "5     False\n",
       "6     False\n",
       "7     False\n",
       "8     False\n",
       "9     False\n",
       "10    False\n",
       "11    False\n",
       "12    False\n",
       "13    False\n",
       "14    False\n",
       "15    False\n",
       "16    False\n",
       "17    False\n",
       "18    False\n",
       "19     True\n",
       "20    False\n",
       "21    False\n",
       "22    False\n",
       "23    False\n",
       "24    False\n",
       "Name: has_na, dtype: bool"
      ]
     },
     "execution_count": 42,
     "metadata": {},
     "output_type": "execute_result"
    }
   ],
   "source": [
    "rts_colony = pd.read_csv('C:/Users/courtney/Documents/Schoolwork/Stat_215a/Bishayee Colony Counts 10.27.97-3.8.01.csv',\n",
    "                         skiprows=2,usecols=range(3,7),na_values=' ')\n",
    "rts_colony['col_min'] = rts_colony.apply(lambda row: min(row['col1'],row['col2'],row['col3']) ,axis=1)\n",
    "rts_colony['col_max'] = rts_colony.apply(lambda row: max(row['col1'],row['col2'],row['col3']) ,axis=1)\n",
    "rts_colony['col_gap'] = rts_colony['col_max']-rts_colony['col_min']\n",
    "rts_colony['has_na'] = ((pd.isnull(rts_colony['col1'])) | (pd.isnull(rts_colony['col2'])) | (pd.isnull(rts_colony['col3'])))\n",
    "\n",
    "total = np.sum(rts_colony['has_na'] == False)\n",
    "complete = np.sum((rts_colony['has_na'] == False) & (rts_colony['col_gap'] >= 2))\n",
    "no_mean = np.sum(((rts_colony['col1'] == round(rts_colony['average'])) | (rts_colony['col2'] == round(rts_colony['average'])) | (rts_colony['col3'] == round(rts_colony['average']))) & (rts_colony['col_gap'] >= 2) & (rts_colony['has_na'] == False))\n",
    "\n",
    "print(complete, total, no_mean)\n"
   ]
  },
  {
   "cell_type": "code",
   "execution_count": 4,
   "metadata": {
    "collapsed": false
   },
   "outputs": [
    {
     "name": "stdout",
     "output_type": "stream",
     "text": [
      "1726 1727 176\n"
     ]
    }
   ],
   "source": [
    "rts_coulter = pd.read_csv('C:/Users/courtney/Documents/Schoolwork/Stat_215a/Bishayee Coulter Counts.10.20.97-7.16.01.csv', \n",
    "                          skiprows=1,usecols=range(2,6),na_values=' ')\n",
    "\n",
    "rts_coulter['col_min'] = rts_coulter.apply(lambda row: min(row['Count 1'],row['Count 2'],row['Count 3']) ,axis=1)\n",
    "rts_coulter['col_max'] = rts_coulter.apply(lambda row: max(row['Count 1'],row['Count 2'],row['Count 3']) ,axis=1)\n",
    "rts_coulter['col_gap'] = rts_coulter['col_max']-rts_coulter['col_min']\n",
    "rts_coulter['has_na'] = ((pd.isnull(rts_coulter['Count 1'])) | (pd.isnull(rts_coulter['Count 2'])) | (pd.isnull(rts_coulter['Count 3'])))\n",
    "\n",
    "total = np.sum(rts_coulter['has_na'] == False)\n",
    "complete = np.sum((rts_coulter['has_na'] == False) & (rts_coulter['col_gap'] >= 2))\n",
    "no_mean = sum(((rts_coulter['Count 1'] == round(rts_coulter['Average'])) | (rts_coulter['Count 2'] == round(rts_coulter['Average'])) | (rts_coulter['Count 3'] == round(rts_coulter['Average']))) & (rts_coulter['col_gap'] >= 2) & (rts_coulter['has_na'] == False))\n",
    "print(complete, total, no_mean)\n"
   ]
  },
  {
   "cell_type": "code",
   "execution_count": 37,
   "metadata": {
    "collapsed": false
   },
   "outputs": [
    {
     "name": "stdout",
     "output_type": "stream",
     "text": [
      "578 597 109\n",
      "23\n"
     ]
    }
   ],
   "source": [
    "others_colony = pd.read_csv('C:/Users/courtney/Documents/Schoolwork/Stat_215a/Other Investigators in Lab.Colony Counts.4.23.92-11.27.02.csv', \n",
    "                          skiprows=1,usecols=range(3,7),na_values=' ')\n",
    "others_colony['col_min'] = others_colony.apply(lambda row: min(row['col1'],row['col2'],row['col3']) ,axis=1)\n",
    "others_colony['col_max'] = others_colony.apply(lambda row: max(row['col1'],row['col2'],row['col3']) ,axis=1)\n",
    "others_colony['col_gap'] = others_colony['col_max'] - others_colony['col_min']\n",
    "others_colony['has_na'] = ((pd.isnull(others_colony['col1'])) | (pd.isnull(others_colony['col2'])) | (pd.isnull(others_colony['col3'])))\n",
    "\n",
    "total = np.sum(others_colony['has_na'] == False)\n",
    "complete = np.sum((others_colony['has_na'] == False) & (others_colony['col_gap'] >= 2))\n",
    "no_mean = sum(((others_colony['col1'] == round(others_colony['average'])) | (others_colony['col2'] == round(others_colony['average'])) | (others_colony['col3'] == round(others_colony['average']))) & (others_colony['col_gap'] >= 2) & (others_colony['has_na'] == False))\n",
    "print(complete, total, no_mean)\n"
   ]
  },
  {
   "cell_type": "code",
   "execution_count": 6,
   "metadata": {
    "collapsed": false
   },
   "outputs": [
    {
     "name": "stdout",
     "output_type": "stream",
     "text": [
      "929 929 36\n"
     ]
    }
   ],
   "source": [
    "others_coulter = pd.read_csv('C:/Users/courtney/Documents/Schoolwork/Stat_215a/Other Investigators in Lab.Coulter Counts.4.15.92-5.21.05.csv', \n",
    "                          skiprows=1,na_values=' ')\n",
    "others_coulter['col_min'] = others_coulter.apply(lambda row: min(row['Coul 1'],row['Coul 2'],row['Coul 3']) ,axis=1)\n",
    "others_coulter['col_max'] = others_coulter.apply(lambda row: max(row['Coul 1'],row['Coul 2'],row['Coul 3']) ,axis=1)\n",
    "others_coulter['col_gap'] = others_coulter['col_max'] - others_coulter['col_min']\n",
    "others_coulter['has_na'] = ((pd.isnull(others_coulter['Coul 1'])) | (pd.isnull(others_coulter['Coul 2'])) | (pd.isnull(others_coulter['Coul 3'])))\n",
    "\n",
    "total = np.sum(others_coulter['has_na'] == False)\n",
    "complete = np.sum((others_coulter['has_na'] == False) & (others_coulter['col_gap'] >= 2))\n",
    "no_mean = sum(((others_coulter['Coul 1'] == round(others_coulter['Average'])) | (others_coulter['Coul 2'] == round(others_coulter['Average'])) | (others_coulter['Coul 3'] == round(others_coulter['Average']))) & (others_coulter['col_gap'] >= 2) & (others_coulter['has_na'] == False))\n",
    "print(complete, total, no_mean)"
   ]
  },
  {
   "cell_type": "code",
   "execution_count": 7,
   "metadata": {
    "collapsed": false
   },
   "outputs": [
    {
     "name": "stdout",
     "output_type": "stream",
     "text": [
      "97 97 0\n"
     ]
    }
   ],
   "source": [
    "Lab1_colony = pd.read_csv('C:/Users/courtney/Documents/Schoolwork/Stat_215a/Outside Lab 1.Coulter Counts.6.7.91-4.9.99.csv', \n",
    "                          na_values=' ')\n",
    "Lab1_colony['col_min'] = Lab1_colony.apply(lambda row: min(row['Unnamed: 1'],row['Unnamed: 2'],row['Unnamed: 3']) ,axis=1)\n",
    "Lab1_colony['col_max'] = Lab1_colony.apply(lambda row: max(row['Unnamed: 1'],row['Unnamed: 2'],row['Unnamed: 3']) ,axis=1)\n",
    "Lab1_colony['col_gap'] = Lab1_colony['col_max'] - Lab1_colony['col_min']\n",
    "Lab1_colony['has_na'] = ((pd.isnull(Lab1_colony['Unnamed: 1'])) | (pd.isnull(Lab1_colony['Unnamed: 2'])) | (pd.isnull(Lab1_colony['Unnamed: 3'])))\n",
    "\n",
    "total = np.sum(Lab1_colony['has_na'] == False)\n",
    "complete = np.sum((Lab1_colony['has_na'] == False) & (Lab1_colony['col_gap'] >= 2))\n",
    "no_mean = sum(((Lab1_colony['Unnamed: 1'] == round(Lab1_colony['Unnamed: 4'])) | (Lab1_colony['Unnamed: 2'] == round(Lab1_colony['Unnamed: 4'])) | (Lab1_colony['Unnamed: 3'] == round(Lab1_colony['Unnamed: 4']))) & (Lab1_colony['col_gap'] >= 2) & (Lab1_colony['has_na'] == False))\n",
    "\n",
    "print(complete, total, no_mean)\n"
   ]
  },
  {
   "cell_type": "code",
   "execution_count": 8,
   "metadata": {
    "collapsed": false
   },
   "outputs": [
    {
     "name": "stdout",
     "output_type": "stream",
     "text": [
      "120 120 1\n"
     ]
    }
   ],
   "source": [
    "Lab2_colony = pd.read_csv('C:/Users/courtney/Documents/Schoolwork/Stat_215a/Outside Lab 2.Coulter Counts.6.6.08-7.7.08.csv', \n",
    "                          na_values=' ',skiprows=1)\n",
    "Lab2_colony['col_min'] = Lab2_colony.apply(lambda row: min(row['Count 1'],row['Count 2'],row['Count 3']) ,axis=1)\n",
    "Lab2_colony['col_max'] = Lab2_colony.apply(lambda row: max(row['Count 1'],row['Count 2'],row['Count 3']) ,axis=1)\n",
    "Lab2_colony['col_gap'] = Lab2_colony['col_max'] - Lab2_colony['col_min']\n",
    "Lab2_colony['has_na'] = ((pd.isnull(Lab2_colony['Count 1'])) | (pd.isnull(Lab2_colony['Count 2'])) | (pd.isnull(Lab2_colony['Count 3'])))\n",
    "\n",
    "total = np.sum(Lab2_colony['has_na'] == False)\n",
    "complete = np.sum((Lab2_colony['has_na'] == False) & (Lab2_colony['col_gap'] >= 2))\n",
    "no_mean = sum(((Lab2_colony['Count 1'] == round(Lab2_colony['Average'])) | (Lab2_colony['Count 2'] == round(Lab2_colony['Average'])) | (Lab2_colony['Count 3'] == round(Lab2_colony['Average']))) & (Lab2_colony['col_gap'] >= 2) & (Lab2_colony['has_na'] == False))\n",
    "print(complete, total, no_mean)\n"
   ]
  },
  {
   "cell_type": "code",
   "execution_count": 9,
   "metadata": {
    "collapsed": false
   },
   "outputs": [
    {
     "name": "stdout",
     "output_type": "stream",
     "text": [
      "49 50 3\n"
     ]
    }
   ],
   "source": [
    "Lab3_colony = pd.read_csv('C:/Users/courtney/Documents/Schoolwork/Stat_215a/Outside Lab 3.Colony Counts.2.4.10-5.21.12.csv', \n",
    "                          na_values=' ',skiprows=1)\n",
    "\n",
    "Lab3_colony['col_min'] = Lab3_colony.apply(lambda row: min(row['c1'],row['c2'],row['c3']) ,axis=1)\n",
    "Lab3_colony['col_max'] = Lab3_colony.apply(lambda row: max(row['c1'],row['c2'],row['c3']) ,axis=1)\n",
    "Lab3_colony['col_gap'] = Lab3_colony['col_max'] - Lab3_colony['col_min']\n",
    "Lab3_colony['has_na'] = ((pd.isnull(Lab3_colony['c1'])) | (pd.isnull(Lab3_colony['c2'])) | (pd.isnull(Lab3_colony['c3'])))\n",
    "\n",
    "total = np.sum(Lab3_colony['has_na'] == False)\n",
    "complete = np.sum((Lab3_colony['has_na'] == False) & (Lab3_colony['col_gap'] >= 2))\n",
    "no_mean = sum(((Lab3_colony['c1'] == round(Lab3_colony['average'])) | (Lab3_colony['c2'] == round(Lab3_colony['average'])) | (Lab3_colony['c3'] == round(Lab3_colony['average']))) & (Lab3_colony['col_gap'] >= 2) & (Lab3_colony['has_na'] == False))\n",
    "print(complete, total, no_mean)\n"
   ]
  },
  {
   "cell_type": "code",
   "execution_count": 10,
   "metadata": {
    "collapsed": false
   },
   "outputs": [
    {
     "name": "stdout",
     "output_type": "stream",
     "text": [
      "2.85336516548e-12\n"
     ]
    }
   ],
   "source": [
    "# Calculate the p-value for Hypothesis 1\n",
    "H1_pvalue = binom_test(x=690,n=1343,p=0.42,alternative='greater')\n",
    "print(H1_pvalue)"
   ]
  },
  {
   "cell_type": "code",
   "execution_count": 20,
   "metadata": {
    "collapsed": false
   },
   "outputs": [
    {
     "name": "stdout",
     "output_type": "stream",
     "text": [
      "Power_divergenceResult(statistic=466.87463837994221, pvalue=7.0622726934816284e-95) 2    736\n",
      "5    732\n",
      "9    718\n",
      "1    613\n",
      "0    475\n",
      "7    425\n",
      "3    416\n",
      "8    372\n",
      "6    363\n",
      "4    335\n",
      "dtype: int64 5185\n"
     ]
    }
   ],
   "source": [
    "# re-creat Table 3 in the paper, RTS COULTER\n",
    "rts_coulter_col1_terminal = rts_coulter['Count 1']\n",
    "rts_coulter_col1_terminal = rts_coulter_col1_terminal[pd.notnull(rts_coulter_col1_terminal)]\n",
    "rts_coulter_col1_terminal= rts_coulter_col1_terminal.astype(str).str[-1:].astype(int)\n",
    "rts_coulter_col2_terminal = rts_coulter['Count 2']\n",
    "rts_coulter_col2_terminal = rts_coulter_col2_terminal[pd.notnull(rts_coulter_col2_terminal)]\n",
    "rts_coulter_col2_terminal = rts_coulter_col2_terminal.astype(str).str[-1:].astype(int)\n",
    "rts_coulter_col3_terminal = rts_coulter['Count 3']\n",
    "rts_coulter_col3_terminal = rts_coulter_col3_terminal[pd.notnull(rts_coulter_col3_terminal)]\n",
    "rts_coulter_col3_terminal = rts_coulter_col3_terminal.astype(str).str[:-2].str[-1:].astype(int)\n",
    "rts_coulter_terminal= pd.concat([rts_coulter_col1_terminal,rts_coulter_col2_terminal,rts_coulter_col3_terminal])\n",
    "chi_pvalue_rts_coulter = chisquare(f_obs=rts_coulter_terminal.value_counts() )\n",
    "print(chi_pvalue_rts_coulter,rts_coulter_terminal.value_counts(),len(rts_coulter_terminal))\n"
   ]
  },
  {
   "cell_type": "code",
   "execution_count": 21,
   "metadata": {
    "collapsed": false
   },
   "outputs": [
    {
     "name": "stdout",
     "output_type": "stream",
     "text": [
      "Power_divergenceResult(statistic=200.72582619339045, pvalue=2.3337800143638883e-38) 0    564\n",
      "9    526\n",
      "5    478\n",
      "2    463\n",
      "7    408\n",
      "8    383\n",
      "6    336\n",
      "1    324\n",
      "3    313\n",
      "4    290\n",
      "dtype: int64\n"
     ]
    },
    {
     "data": {
      "text/plain": [
       "4085"
      ]
     },
     "execution_count": 21,
     "metadata": {},
     "output_type": "execute_result"
    }
   ],
   "source": [
    "# re-creat Table 3 in the paper, RTS COLONY\n",
    "\n",
    "\n",
    "rts_colony_col1_terminal = rts_colony['col1']\n",
    "rts_colony_col1_terminal = rts_colony_col1_terminal[pd.notnull(rts_colony_col1_terminal)]\n",
    "rts_colony_col1_terminal = rts_colony_col1_terminal.astype(str).str[-1:].astype(int)\n",
    "rts_colony_col2_terminal = rts_colony['col2']\n",
    "rts_colony_col2_terminal = rts_colony_col2_terminal[pd.notnull(rts_colony_col2_terminal)]\n",
    "rts_colony_col2_terminal = rts_colony_col2_terminal.astype(str).str[-1:].astype(int)\n",
    "rts_colony_col3_terminal = rts_colony['col3']\n",
    "rts_colony_col3_terminal = rts_colony_col3_terminal[pd.notnull(rts_colony_col3_terminal)]\n",
    "rts_colony_col3_terminal = rts_colony_col3_terminal.astype(str).str[:-2].str[-1:].astype(int)\n",
    "\n",
    "rts_colony_terminal= pd.concat([rts_colony_col1_terminal,rts_colony_col2_terminal,rts_colony_col3_terminal])\n",
    "\n",
    "rts_colony_terminal= pd.concat([rts_colony_col1_terminal,rts_colony_col2_terminal,rts_colony_col3_terminal])\n",
    "chi_pvalue_rts_colony = chisquare(f_obs=rts_colony_terminal.value_counts())\n",
    "print(chi_pvalue_rts_colony,rts_colony_terminal.value_counts())\n",
    "len(rts_colony_terminal)\n"
   ]
  },
  {
   "cell_type": "code",
   "execution_count": 13,
   "metadata": {
    "collapsed": false
   },
   "outputs": [
    {
     "name": "stdout",
     "output_type": "stream",
     "text": [
      "Power_divergenceResult(statistic=1.7906215921483095, pvalue=0.99436253377195383) 2    195\n",
      "0    191\n",
      "8    185\n",
      "7    185\n",
      "4    184\n",
      "9    181\n",
      "1    181\n",
      "3    179\n",
      "6    178\n",
      "5    175\n",
      "dtype: int64 1834\n"
     ]
    }
   ],
   "source": [
    "# re-creat Table 3 in the paper, OTHERS COLONY\n",
    "\n",
    "others_colony_col1_terminal = others_colony['col1']\n",
    "others_colony_col1_terminal = others_colony_col1_terminal[pd.notnull(others_colony_col1_terminal)]\n",
    "others_colony_col1_terminal = others_colony_col1_terminal.astype(str).str[-1:].astype(int)\n",
    "others_colony_col2_terminal = others_colony['col2']\n",
    "others_colony_col2_terminal = others_colony_col2_terminal[pd.notnull(others_colony_col2_terminal)]\n",
    "others_colony_col2_terminal = others_colony_col2_terminal.astype(str).str[:-2].str[-1:].astype(int)\n",
    "others_colony_col3_terminal = others_colony['col3']\n",
    "others_colony_col3_terminal = others_colony_col3_terminal[pd.notnull(others_colony_col3_terminal)]\n",
    "others_colony_col3_terminal = others_colony_col3_terminal.astype(str).str[:-2].str[-1:].astype(int)\n",
    "\n",
    "others_colony_terminal= pd.concat([others_colony_col1_terminal,others_colony_col2_terminal,others_colony_col3_terminal])\n",
    "chi_pvalue_others_colony = chisquare(f_obs=others_colony_terminal.value_counts())\n",
    "print(chi_pvalue_others_colony,others_colony_terminal.value_counts(),len(others_colony_terminal))\n"
   ]
  },
  {
   "cell_type": "code",
   "execution_count": 22,
   "metadata": {
    "collapsed": false
   },
   "outputs": [
    {
     "name": "stdout",
     "output_type": "stream",
     "text": [
      "Power_divergenceResult(statistic=15.994561522773624, pvalue=0.066995244285223049) 8    331\n",
      "4    318\n",
      "1    311\n",
      "6    298\n",
      "9    296\n",
      "2    295\n",
      "5    290\n",
      "7    283\n",
      "0    261\n",
      "3    259\n",
      "dtype: int64 2942\n"
     ]
    }
   ],
   "source": [
    "# re-creat Table 3 in the paper, OTHERS COULTER\n",
    "\n",
    "others_coulter_col1_terminal = others_coulter['Coul 1']\n",
    "others_coulter_col1_terminal = others_coulter_col1_terminal[pd.notnull(others_coulter_col1_terminal)]\n",
    "others_coulter_col1_terminal = others_coulter_col1_terminal.astype(str).str[:-2].str[-1:].astype(int)\n",
    "others_coulter_col2_terminal = others_coulter['Coul 2']\n",
    "others_coulter_col2_terminal = others_coulter_col2_terminal[pd.notnull(others_coulter_col2_terminal)]\n",
    "others_coulter_col2_terminal = others_coulter_col2_terminal.astype(str).str[:-2].str[-1:].astype(int)\n",
    "others_coulter_col3_terminal = others_coulter['Coul 3']\n",
    "others_coulter_col3_terminal = others_coulter_col3_terminal[pd.notnull(others_coulter_col3_terminal)]\n",
    "others_coulter_col3_terminal = others_coulter_col3_terminal.astype(str).str[:-2].str[-1:].astype(int)\n",
    "\n",
    "others_coulter_terminal= pd.concat([others_coulter_col1_terminal,others_coulter_col2_terminal,others_coulter_col3_terminal])\n",
    "chi_pvalue_others_coulter = chisquare(f_obs=others_coulter_terminal.value_counts())\n",
    "print(chi_pvalue_others_coulter,others_coulter_terminal.value_counts(),len(others_coulter_terminal))"
   ]
  },
  {
   "cell_type": "code",
   "execution_count": 34,
   "metadata": {
    "collapsed": false
   },
   "outputs": [
    {
     "name": "stdout",
     "output_type": "stream",
     "text": [
      "0\n",
      "0\n",
      "12\n",
      "Power_divergenceResult(statistic=9.4761904761904763, pvalue=0.39452725669582323) 6    44\n",
      "5    36\n",
      "1    34\n",
      "9    33\n",
      "7    33\n",
      "2    29\n",
      "0    28\n",
      "4    27\n",
      "8    26\n",
      "3    25\n",
      "dtype: int64 315\n"
     ]
    }
   ],
   "source": [
    "# re-creat Table 3 in the paper, Lab 1 Colony\n",
    "\n",
    "Lab1_colony_col1_terminal = Lab1_colony['Unnamed: 1']\n",
    "Lab1_colony_col1_terminal = Lab1_colony_col1_terminal[pd.notnull(Lab1_colony_col1_terminal)]\n",
    "Lab1_colony_col1_terminal = Lab1_colony_col1_terminal.astype(str).str[-1:].astype(int)\n",
    "Lab1_colony_col2_terminal = Lab1_colony['Unnamed: 2']\n",
    "Lab1_colony_col2_terminal = Lab1_colony_col2_terminal[pd.notnull(Lab1_colony_col2_terminal)]\n",
    "Lab1_colony_col2_terminal = Lab1_colony_col2_terminal.astype(str).str[-1:].astype(int)\n",
    "Lab1_colony_col3_terminal = Lab1_colony['Unnamed: 3']\n",
    "\n",
    "Lab1_colony_col3_terminal = Lab1_colony_col3_terminal[pd.notnull(Lab1_colony_col3_terminal)]\n",
    "\n",
    "Lab1_colony_col3_terminal = Lab1_colony_col3_terminal.astype(str).str[:-2].str[-1:].astype(int)\n",
    "\n",
    "Lab1_colony_terminal= pd.concat([Lab1_colony_col1_terminal,Lab1_colony_col2_terminal,Lab1_colony_col3_terminal])\n",
    "chi_pvalue_Lab1_colony = chisquare(f_obs=Lab1_colony_terminal.value_counts())\n",
    "print(chi_pvalue_Lab1_colony,Lab1_colony_terminal.value_counts(),len(Lab1_colony_terminal))\n"
   ]
  },
  {
   "cell_type": "code",
   "execution_count": 24,
   "metadata": {
    "collapsed": false
   },
   "outputs": [
    {
     "name": "stdout",
     "output_type": "stream",
     "text": [
      "Power_divergenceResult(statistic=4.9444444444444446, pvalue=0.83912402419536658) 2    45\n",
      "5    42\n",
      "1    38\n",
      "8    35\n",
      "7    35\n",
      "3    35\n",
      "0    34\n",
      "9    33\n",
      "4    32\n",
      "6    31\n",
      "dtype: int64 360\n"
     ]
    }
   ],
   "source": [
    "# re-creat Table 3 in the paper, Lab 2 Colony\n",
    "\n",
    "Lab2_colony_col1_terminal = Lab2_colony['Count 1']\n",
    "Lab2_colony_col1_terminal = Lab2_colony_col1_terminal[pd.notnull(Lab2_colony_col1_terminal)]\n",
    "Lab2_colony_col1_terminal = Lab2_colony_col1_terminal.astype(str).str[-1:].astype(int)\n",
    "Lab2_colony_col2_terminal = Lab2_colony['Count 2']\n",
    "Lab2_colony_col2_terminal = Lab2_colony_col2_terminal[pd.notnull(Lab2_colony_col2_terminal)]\n",
    "Lab2_colony_col2_terminal = Lab2_colony_col2_terminal.astype(str).str[-1:].astype(int)\n",
    "Lab2_colony_col3_terminal = Lab2_colony['Count 3']\n",
    "Lab2_colony_col3_terminal = Lab2_colony_col3_terminal[pd.notnull(Lab2_colony_col3_terminal)]\n",
    "Lab2_colony_col3_terminal = Lab2_colony_col3_terminal.astype(str).str[-1:].astype(int)\n",
    "\n",
    "Lab2_colony_terminal= pd.concat([Lab2_colony_col1_terminal,Lab2_colony_col2_terminal,Lab2_colony_col3_terminal])\n",
    "chi_pvalue_Lab2_colony = chisquare(f_obs=Lab2_colony_terminal.value_counts())\n",
    "print(chi_pvalue_Lab2_colony,Lab2_colony_terminal.value_counts(),len(Lab2_colony_terminal))"
   ]
  },
  {
   "cell_type": "code",
   "execution_count": 25,
   "metadata": {
    "collapsed": false
   },
   "outputs": [
    {
     "name": "stdout",
     "output_type": "stream",
     "text": [
      "Power_divergenceResult(statistic=12.133333333333333, pvalue=0.20589657510344794) 0    21\n",
      "7    19\n",
      "5    19\n",
      "4    19\n",
      "3    16\n",
      "2    15\n",
      "9    12\n",
      "8    11\n",
      "6     9\n",
      "1     9\n",
      "dtype: int64 150\n"
     ]
    }
   ],
   "source": [
    "# re-creat Table 3 in the paper, Lab 3 Colony\n",
    "\n",
    "Lab3_colony_col1_terminal = Lab3_colony['c1']\n",
    "Lab3_colony_col1_terminal = Lab3_colony_col1_terminal[pd.notnull(Lab3_colony_col1_terminal)]\n",
    "Lab3_colony_col1_terminal = Lab3_colony_col1_terminal.astype(str).str[-1:].astype(int)\n",
    "Lab3_colony_col2_terminal = Lab3_colony['c2']\n",
    "Lab3_colony_col2_terminal = Lab3_colony_col2_terminal[pd.notnull(Lab3_colony_col2_terminal)]\n",
    "Lab3_colony_col2_terminal = Lab3_colony_col2_terminal.astype(str).str[-1:].astype(int)\n",
    "Lab3_colony_col3_terminal = Lab3_colony['c3']\n",
    "Lab3_colony_col3_terminal = Lab3_colony_col3_terminal[pd.notnull(Lab3_colony_col3_terminal)]\n",
    "Lab3_colony_col3_terminal = Lab3_colony_col3_terminal.astype(str).str[-1:].astype(int)\n",
    "\n",
    "Lab3_colony_terminal= pd.concat([Lab3_colony_col1_terminal,Lab3_colony_col2_terminal,Lab3_colony_col3_terminal])\n",
    "chi_pvalue_Lab3_colony = chisquare(f_obs=Lab3_colony_terminal.value_counts())\n",
    "print(chi_pvalue_Lab3_colony,Lab3_colony_terminal.value_counts(),len(Lab3_colony_terminal))"
   ]
  },
  {
   "cell_type": "code",
   "execution_count": 26,
   "metadata": {
    "collapsed": false
   },
   "outputs": [
    {
     "name": "stdout",
     "output_type": "stream",
     "text": [
      "229\n",
      "222\n",
      "193\n",
      "5185 644\n"
     ]
    }
   ],
   "source": [
    "## Binomial test for last two digits in RTS coulter data\n",
    "rts_coulter_col1_terminal = rts_coulter['Count 1']\n",
    "rts_coulter_col1_terminal = rts_coulter_col1_terminal[pd.notnull(rts_coulter_col1_terminal)]\n",
    "rts_coulter_col1_terminal2= rts_coulter_col1_terminal.astype(str).str[-2:].astype(int)\n",
    "x1 = np.sum((rts_coulter_col1_terminal2 == 00) | (rts_coulter_col1_terminal2 == 11) | (rts_coulter_col1_terminal2 == 22) | (rts_coulter_col1_terminal2 == 33) | (rts_coulter_col1_terminal2 == 44) | (rts_coulter_col1_terminal2 == 55) | (rts_coulter_col1_terminal2 == 66) | (rts_coulter_col1_terminal2 == 77) | (rts_coulter_col1_terminal2 == 88) | (rts_coulter_col1_terminal2 == 99))\n",
    "print(x1)\n",
    "\n",
    "rts_coulter_col2_terminal = rts_coulter['Count 2']\n",
    "rts_coulter_col2_terminal = rts_coulter_col2_terminal[pd.notnull(rts_coulter_col2_terminal)]\n",
    "rts_coulter_col2_terminal2= rts_coulter_col2_terminal.astype(str).str[-2:].astype(int)\n",
    "x2 = np.sum((rts_coulter_col2_terminal2 == 00) | (rts_coulter_col2_terminal2 == 11) | (rts_coulter_col2_terminal2 == 22) | (rts_coulter_col2_terminal2 == 33) | (rts_coulter_col2_terminal2 == 44) | (rts_coulter_col2_terminal2 == 55) | (rts_coulter_col2_terminal2 == 66) | (rts_coulter_col2_terminal2 == 77) | (rts_coulter_col2_terminal2 == 88) | (rts_coulter_col2_terminal2 == 99))\n",
    "print(x2)\n",
    "\n",
    "rts_coulter_col3_terminal = rts_coulter['Count 3']\n",
    "rts_coulter_col3_terminal = rts_coulter_col3_terminal[pd.notnull(rts_coulter_col3_terminal)]\n",
    "rts_coulter_col3_terminal2 = rts_coulter_col3_terminal.astype(str).str[:-2].str[-2:].astype(int)\n",
    "x3 = np.sum((rts_coulter_col3_terminal2 == 00) | (rts_coulter_col3_terminal2 == 11) | (rts_coulter_col3_terminal2 == 22) | (rts_coulter_col3_terminal2 == 33) | (rts_coulter_col3_terminal2 == 44) | (rts_coulter_col3_terminal2 == 55) | (rts_coulter_col3_terminal2 == 66) | (rts_coulter_col3_terminal2 == 77) | (rts_coulter_col3_terminal2 == 88) | (rts_coulter_col3_terminal2 == 99))\n",
    "print(x3)\n",
    "\n",
    "myx = (x1+x2+x3)\n",
    "myn = (len(rts_coulter_col1_terminal2) + len(rts_coulter_col2_terminal2) + len(rts_coulter_col3_terminal2))\n",
    "print(myn,myx)"
   ]
  },
  {
   "cell_type": "code",
   "execution_count": 16,
   "metadata": {
    "collapsed": false
   },
   "outputs": [
    {
     "name": "stdout",
     "output_type": "stream",
     "text": [
      "1.04266591861e-08\n"
     ]
    }
   ],
   "source": [
    "Terminal2_pvalue = binom_test(x=myx,n=myn,p=0.1,alternative='greater')\n",
    "print(Terminal2_pvalue)"
   ]
  },
  {
   "cell_type": "code",
   "execution_count": 27,
   "metadata": {
    "collapsed": false
   },
   "outputs": [
    {
     "name": "stdout",
     "output_type": "stream",
     "text": [
      "96\n",
      "98\n",
      "97\n",
      "2942 291\n"
     ]
    }
   ],
   "source": [
    "## Binomial test for last two digits in Others Coulter data\n",
    "others_coulter_col1_terminal = others_coulter['Coul 1']\n",
    "others_coulter_col1_terminal = others_coulter_col1_terminal[pd.notnull(others_coulter_col1_terminal)]\n",
    "others_coulter_col1_terminal2= others_coulter_col1_terminal.astype(str).str[:-2].str[-2:].astype(int)\n",
    "x1 = np.sum((others_coulter_col1_terminal2 == 00) | (others_coulter_col1_terminal2 == 11) | (others_coulter_col1_terminal2 == 22) | (others_coulter_col1_terminal2 == 33) | (others_coulter_col1_terminal2 == 44) | (others_coulter_col1_terminal2 == 55) | (others_coulter_col1_terminal2 == 66) | (others_coulter_col1_terminal2 == 77) | (others_coulter_col1_terminal2 == 88) | (others_coulter_col1_terminal2 == 99))\n",
    "print(x1)\n",
    "\n",
    "others_coulter_col2_terminal = others_coulter['Coul 2']\n",
    "others_coulter_col2_terminal = others_coulter_col2_terminal[pd.notnull(others_coulter_col2_terminal)]\n",
    "others_coulter_col2_terminal2= others_coulter_col2_terminal.astype(str).str[:-2].str[-2:].astype(int)\n",
    "x2 = np.sum((others_coulter_col2_terminal2 == 00) | (others_coulter_col2_terminal2 == 11) | (others_coulter_col2_terminal2 == 22) | (others_coulter_col2_terminal2 == 33) | (others_coulter_col2_terminal2 == 44) | (others_coulter_col2_terminal2 == 55) | (others_coulter_col2_terminal2 == 66) | (others_coulter_col2_terminal2 == 77) | (others_coulter_col2_terminal2 == 88) | (others_coulter_col2_terminal2 == 99))\n",
    "print(x2)\n",
    "\n",
    "others_coulter_col3_terminal = others_coulter['Coul 3']\n",
    "others_coulter_col3_terminal = others_coulter_col3_terminal[pd.notnull(others_coulter_col3_terminal)]\n",
    "others_coulter_col3_terminal2 = others_coulter_col3_terminal.astype(str).str[:-2].str[-2:].astype(int)\n",
    "x3 = np.sum((others_coulter_col3_terminal2 == 00) | (others_coulter_col3_terminal2 == 11) | (others_coulter_col3_terminal2 == 22) | (others_coulter_col3_terminal2 == 33) | (others_coulter_col3_terminal2 == 44) | (others_coulter_col3_terminal2 == 55) | (others_coulter_col3_terminal2 == 66) | (others_coulter_col3_terminal2 == 77) | (others_coulter_col3_terminal2 == 88) | (others_coulter_col3_terminal2 == 99))\n",
    "print(x3)\n",
    "\n",
    "\n",
    "myx = (x1+x2+x3)\n",
    "myn = (len(others_coulter_col1_terminal2) + len(others_coulter_col2_terminal2) + len(others_coulter_col3_terminal2))\n",
    "print(myn,myx)"
   ]
  },
  {
   "cell_type": "code",
   "execution_count": 28,
   "metadata": {
    "collapsed": false
   },
   "outputs": [
    {
     "name": "stdout",
     "output_type": "stream",
     "text": [
      "0.586904796156\n"
     ]
    }
   ],
   "source": [
    "Terminal2_pvalue_others_coulter = binom_test(x=myx,n=myn,p=0.1,alternative='greater')\n",
    "print(Terminal2_pvalue_others_coulter)"
   ]
  },
  {
   "cell_type": "code",
   "execution_count": null,
   "metadata": {
    "collapsed": true
   },
   "outputs": [],
   "source": []
  }
 ],
 "metadata": {
  "anaconda-cloud": {},
  "celltoolbar": "Edit Metadata",
  "kernelspec": {
   "display_name": "Python [Root]",
   "language": "python",
   "name": "Python [Root]"
  },
  "language_info": {
   "codemirror_mode": {
    "name": "ipython",
    "version": 3
   },
   "file_extension": ".py",
   "mimetype": "text/x-python",
   "name": "python",
   "nbconvert_exporter": "python",
   "pygments_lexer": "ipython3",
   "version": "3.5.2"
  }
 },
 "nbformat": 4,
 "nbformat_minor": 0
}
