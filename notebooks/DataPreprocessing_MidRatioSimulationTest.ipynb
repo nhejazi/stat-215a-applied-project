{
 "cells": [
  {
   "cell_type": "code",
   "execution_count": 2,
   "metadata": {
    "collapsed": false
   },
   "outputs": [],
   "source": [
    "%matplotlib inline\n",
    "import pandas as pd\n",
    "import numpy as np\n",
    "import os.path\n",
    "import matplotlib.pyplot as plt\n",
    "import seaborn as sns\n",
    "import math\n",
    "from scipy.stats import poisson"
   ]
  },
  {
   "cell_type": "code",
   "execution_count": 8,
   "metadata": {
    "collapsed": false
   },
   "outputs": [],
   "source": [
    "def ColumnNames():\n",
    "    return ['col1', 'col2', 'col3', 'average']\n",
    "\n",
    "def PreProcess(filepath, skiprows, usecols): \n",
    "    \"\"\"\n",
    "    This function reads data and add min, max, include_mean values.\n",
    "    \n",
    "    Parameters\n",
    "    ----------\n",
    "    filepath : filepath of the data\n",
    "    skiprows: number of rows to skip from the csv file\n",
    "    usecols: range of columns of data to read in.\n",
    "               \n",
    "    Returns\n",
    "    -------\n",
    "    data : The original count data and some added columns of new stats data.\n",
    "    \"\"\"\n",
    "    print 'Reading Data from \\\"{0}\\\"'.format(os.path.basename(filepath))\n",
    "    data = pd.read_csv(filepath, skiprows=skiprows,usecols=usecols,na_values=' ', header = None, names = ColumnNames() ).dropna(axis=0)\n",
    "    data['col_min'] = data.apply(lambda row: min(row['col1'],row['col2'],row['col3']), axis=1)\n",
    "    data['col_max'] = data.apply(lambda row: max(row['col1'],row['col2'],row['col3']), axis=1)\n",
    "    data['col_median'] = data.apply(lambda row: np.median([row['col1'],row['col2'],row['col3']]), axis=1)\n",
    "    data['col_gap'] = data['col_max']-data['col_min']\n",
    "    data['complete'] = data['col_gap']>=2\n",
    "    data['include_mean'] = data.apply(lambda row: ((row['col1'] == round(row['average']) or row['col2'] == round(row['average']) or \n",
    "                                                               row['col3'] == round(row['average'])) and row['complete']),axis=1)\n",
    "    return  data\n",
    "\n",
    "def GetStats(data):\n",
    "    \"\"\"\n",
    "    This function reads data and print relevant stats.\n",
    "    \n",
    "    Parameters\n",
    "    ----------\n",
    "    data : preprocessed data with the desired columns\n",
    "    \"\"\"    \n",
    "    total = len(data)\n",
    "    complete = len(data[data['complete']])\n",
    "    no_mean = len(data[data['include_mean'] == True])\n",
    "    #mid_ratio = data[data['complete']].apply(lambda row: (row['col_median']-row['col_min'])/row['col_gap'], axis=1)\n",
    "    #plt.figure();\n",
    "    #sns.distplot(mid_ratio, bins=10, norm_hist=True)\n",
    "    print 'total:{0}, number_of_complete:{1}, number_of_mean:{2}'.format(total, complete, no_mean)\n",
    "    \n",
    "def MidRatioHistPlot(data):\n",
    "    mid_ratio = data[data['complete']].apply(lambda row: (row['col_median']-row['col_min'])/row['col_gap'], axis=1)\n",
    "    mid_ratio_value, mid_ratio_range = np.histogram(mid_ratio, bins = 10)\n",
    "    mid_ratio_percentage = mid_ratio_value/float(len(mid_ratio)) * 100\n",
    "    plt.bar(np.arange(0,10), mid_ratio_percentage)\n",
    "    plt.axis([0, 10, 0, 1.5*max(mid_ratio_percentage)])\n",
    "    plt.xticks(np.arange(0,10), mid_ratio_range)\n",
    "    plt.xlabel('Mid ratio range')\n",
    "    plt.ylabel('Probability')\n",
    "    plt.show()"
   ]
  },
  {
   "cell_type": "code",
   "execution_count": 56,
   "metadata": {
    "collapsed": false,
    "scrolled": true
   },
   "outputs": [
    {
     "name": "stdout",
     "output_type": "stream",
     "text": [
      "Reading Data from \"Bishayee Colony Counts 10.27.97-3.8.01.csv\"\n",
      "Reading Data from \"Other Investigators in Lab.Colony Counts.4.23.92-11.27.02.csv\"\n"
     ]
    }
   ],
   "source": [
    "data_dir = '../data/PittHill_OSFdata_2016/csv/'\n",
    "rts_colony = PreProcess(os.path.join(data_dir,'Bishayee Colony Counts 10.27.97-3.8.01.csv'),3,range(3,7))\n",
    "others_colony = PreProcess(os.path.join(data_dir,'Other Investigators in Lab.Colony Counts.4.23.92-11.27.02.csv'),2,range(3,7))\n",
    "#rts_coulter = PreProcess(os.path.join(data_dir,'Bishayee Coulter Counts.10.20.97-7.16.01.csv'),2,range(2,6))\n",
    "#others_coulter = PreProcess(os.path.join(data_dir,'Other Investigators in Lab.Coulter Counts.4.15.92-5.21.05.csv'),2,range(2,6))"
   ]
  },
  {
   "cell_type": "code",
   "execution_count": 10,
   "metadata": {
    "collapsed": false
   },
   "outputs": [
    {
     "data": {
      "image/png": "[encoded data removed]",
      "text/plain": [
       "<matplotlib.figure.Figure at 0x113f61c10>"
      ]
     },
     "metadata": {},
     "output_type": "display_data"
    },
    {
     "data": {
      "image/png": "[encoded data removed]",
      "text/plain": [
       "<matplotlib.figure.Figure at 0x1175468d0>"
      ]
     },
     "metadata": {},
     "output_type": "display_data"
    }
   ],
   "source": [
    "MidRatioHistPlot(rts_colony)\n",
    "MidRatioHistPlot(others_colony)"
   ]
  },
  {
   "cell_type": "code",
   "execution_count": 26,
   "metadata": {
    "collapsed": false
   },
   "outputs": [
    {
     "name": "stdout",
     "output_type": "stream",
     "text": [
      "total:1361, number_of_complete:1343, number_of_mean:690\n",
      "total:597, number_of_complete:578, number_of_mean:109\n"
     ]
    }
   ],
   "source": [
    "GetStats(rts_colony)\n",
    "GetStats(others_colony)\n",
    "#GetStats(rts_coulter)\n",
    "#GetStats(others_coulter)\n"
   ]
  },
  {
   "cell_type": "code",
   "execution_count": 49,
   "metadata": {
    "collapsed": false
   },
   "outputs": [],
   "source": [
    "def ChooseN(moment):\n",
    "    MAX_N = 1000000\n",
    "    EPSILON = 1e-9\n",
    "    prob_sum = 0\n",
    "    for j in range(0, MAX_N):\n",
    "        prob_sum = prob_sum + poisson.pmf(j, moment)\n",
    "        if prob_sum >= 1-EPSILON:\n",
    "            print 'For moment: {0}, Choose N:{1}'.format(moment, j)\n",
    "            return j\n",
    "        \n",
    "def PoissonMidRatio(moment, left_ratio, right_ratio):\n",
    "    prob = 0\n",
    "    N = ChooseN(moment)\n",
    "    for j in list(range(2, N + 1)):\n",
    "        for k in list(range(j, N + 1)):\n",
    "            inner = poisson.cdf(min(k,math.ceil(right_ratio*j+k-j)), moment) - poisson.cdf(max(k-j,math.floor(left_ratio*j+k-j)), moment)\n",
    "            outer = poisson.pmf(k, moment) * poisson.pmf(k - j, moment)\n",
    "            prob = prob + outer * inner    \n",
    "    prob = 6 * prob\n",
    "    return(prob)"
   ]
  },
  {
   "cell_type": "code",
   "execution_count": 51,
   "metadata": {
    "collapsed": false
   },
   "outputs": [
    {
     "name": "stdout",
     "output_type": "stream",
     "text": [
      "For moment: 1, Choose N:11\n",
      "For moment: 2, Choose N:15\n",
      "For moment: 3, Choose N:18\n",
      "For moment: 4, Choose N:21\n",
      "For moment: 5, Choose N:23\n",
      "For moment: 6, Choose N:26\n",
      "For moment: 7, Choose N:28\n",
      "For moment: 8, Choose N:30\n",
      "For moment: 9, Choose N:32\n",
      "For moment: 10, Choose N:34\n",
      "For moment: 11, Choose N:36\n",
      "For moment: 12, Choose N:38\n",
      "For moment: 13, Choose N:40\n",
      "For moment: 14, Choose N:42\n",
      "For moment: 15, Choose N:43\n",
      "For moment: 16, Choose N:45\n",
      "For moment: 17, Choose N:47\n",
      "For moment: 18, Choose N:49\n",
      "For moment: 19, Choose N:50\n",
      "For moment: 20, Choose N:52\n",
      "For moment: 21, Choose N:54\n",
      "For moment: 22, Choose N:55\n",
      "For moment: 23, Choose N:57\n",
      "For moment: 24, Choose N:59\n",
      "For moment: 25, Choose N:60\n",
      "For moment: 26, Choose N:62\n",
      "For moment: 27, Choose N:64\n",
      "For moment: 28, Choose N:65\n",
      "For moment: 29, Choose N:67\n",
      "For moment: 30, Choose N:68\n",
      "For moment: 31, Choose N:70\n",
      "For moment: 32, Choose N:71\n",
      "For moment: 33, Choose N:73\n",
      "For moment: 34, Choose N:74\n",
      "For moment: 35, Choose N:76\n",
      "For moment: 36, Choose N:77\n",
      "For moment: 37, Choose N:79\n",
      "For moment: 38, Choose N:80\n",
      "For moment: 39, Choose N:82\n",
      "For moment: 40, Choose N:83\n",
      "For moment: 41, Choose N:85\n",
      "For moment: 42, Choose N:86\n",
      "For moment: 43, Choose N:88\n",
      "For moment: 44, Choose N:89\n",
      "For moment: 45, Choose N:91\n",
      "For moment: 46, Choose N:92\n",
      "For moment: 47, Choose N:94\n",
      "For moment: 48, Choose N:95\n",
      "For moment: 49, Choose N:96\n"
     ]
    }
   ],
   "source": [
    "leftRatio = 0.4\n",
    "rightRatio = 0.6\n",
    "poisMoments = range(1, 50) # each mean-variance parameter of the Poisson distribution\n",
    "probs = np.zeros(len(poisMoments))\n",
    "\n",
    "# Computing the probability of the mid ratio between leftRatio and rightRatio\n",
    "for i in range(len(poisMoments)):\n",
    "    probs[i] = PoissonMidRatio(poisMoments[i], leftRatio, rightRatio)"
   ]
  },
  {
   "cell_type": "code",
   "execution_count": 52,
   "metadata": {
    "collapsed": false
   },
   "outputs": [
    {
     "data": {
      "image/png": "[encoded data removed]",
      "text/plain": [
       "<matplotlib.figure.Figure at 0x11aaeae50>"
      ]
     },
     "metadata": {},
     "output_type": "display_data"
    }
   ],
   "source": [
    "plt.figure(num = None, figsize=(12, 9), dpi=80)\n",
    "plt.plot(poisMoments, probs)\n",
    "plt.xlabel('$\\lambda$ (moment) parameter of Poisson distribution')\n",
    "plt.ylabel('Probability')\n",
    "plt.title(r'Histogram of Mid Ratio Probabilities from Poisson Triples')\n",
    "plt.axis([min(poisMoments), max(poisMoments), 0, min(1.5 * max(probs), 1)])\n",
    "plt.show()"
   ]
  },
  {
   "cell_type": "code",
   "execution_count": null,
   "metadata": {
    "collapsed": true
   },
   "outputs": [],
   "source": []
  }
 ],
 "metadata": {
  "kernelspec": {
   "display_name": "Python 2",
   "language": "python",
   "name": "python2"
  },
  "language_info": {
   "codemirror_mode": {
    "name": "ipython",
    "version": 2
   },
   "file_extension": ".py",
   "mimetype": "text/x-python",
   "name": "python",
   "nbconvert_exporter": "python",
   "pygments_lexer": "ipython2",
   "version": "2.7.11"
  }
 },
 "nbformat": 4,
 "nbformat_minor": 0
}
